{
  "nbformat": 4,
  "nbformat_minor": 0,
  "metadata": {
    "colab": {
      "provenance": []
    },
    "kernelspec": {
      "name": "python3",
      "display_name": "Python 3"
    },
    "language_info": {
      "name": "python"
    }
  },
  "cells": [
    {
      "cell_type": "code",
      "execution_count": 1,
      "metadata": {
        "colab": {
          "base_uri": "https://localhost:8080/",
          "height": 34
        },
        "id": "u3lOYF_xoO8n",
        "outputId": "7ac43f0d-01cf-494a-e1b0-6ca231e8e3a7"
      },
      "outputs": [
        {
          "output_type": "execute_result",
          "data": {
            "text/plain": [
              "<PIL.Image.Image image mode=RGBA size=16x16 at 0x7F771859FFA0>"
            ],
            "image/png": "[encoded data removed]"
          },
          "metadata": {},
          "execution_count": 1
        }
      ],
      "source": [
        "# https://www.favicon.cc/\n",
        "import numpy as np\n",
        "from PIL import Image\n",
        "im = Image.open('10.ico')\n",
        "im = im.convert('RGBA')\n",
        "im"
      ]
    },
    {
      "cell_type": "code",
      "source": [
        "print(im.size)\n",
        "im_matrix = np.array(im)\n",
        "print(im_matrix[0][0])"
      ],
      "metadata": {
        "colab": {
          "base_uri": "https://localhost:8080/"
        },
        "id": "W72PwklYo77X",
        "outputId": "b14e7d93-101f-4faf-902e-87984fd6feec"
      },
      "execution_count": 2,
      "outputs": [
        {
          "output_type": "stream",
          "name": "stdout",
          "text": [
            "(16, 16)\n",
            "[0 0 0 0]\n"
          ]
        }
      ]
    },
    {
      "cell_type": "code",
      "source": [
        "for i in range(16):\n",
        "  for j in range(16):\n",
        "    print(1 if im_matrix[i][j][-1] else 0, end=\"\")\n",
        "  print()"
      ],
      "metadata": {
        "colab": {
          "base_uri": "https://localhost:8080/"
        },
        "id": "0LKGadQUm59N",
        "outputId": "f7dbcf26-1046-4a11-fffe-54c25734e6ec"
      },
      "execution_count": 3,
      "outputs": [
        {
          "output_type": "stream",
          "name": "stdout",
          "text": [
            "0000000000000001\n",
            "0010000000001111\n",
            "0111000000111110\n",
            "0111100000111100\n",
            "0001111001111100\n",
            "0000111111110000\n",
            "0000011111110000\n",
            "0000001111100000\n",
            "0000001111100000\n",
            "0000011111110000\n",
            "0000011001111000\n",
            "0001110000111100\n",
            "0011110000111100\n",
            "0011100000011110\n",
            "0011000000001100\n",
            "0110000000000100\n"
          ]
        }
      ]
    },
    {
      "cell_type": "code",
      "source": [
        "def make_bin_im(im_matrix):\n",
        "  im_bin = []\n",
        "  for i in range(16):\n",
        "    for j in range(16):\n",
        "      im_bin.append(1 if im_matrix[i][j][-1] else 0)\n",
        "  return im_bin"
      ],
      "metadata": {
        "id": "SGFQg9dtoCjv"
      },
      "execution_count": 4,
      "outputs": []
    },
    {
      "cell_type": "code",
      "source": [
        "from sklearn.neural_network import MLPClassifier\n",
        "\n",
        "im_10 = make_bin_im(im_matrix)\n",
        "clf = MLPClassifier(random_state=42).fit([im_10,], [1,])"
      ],
      "metadata": {
        "id": "LdYmjMzmpGoH"
      },
      "execution_count": 5,
      "outputs": []
    },
    {
      "cell_type": "code",
      "source": [
        "X_train = []\n",
        "for ico in ['10.ico', '00.ico']:\n",
        "  im = Image.open(ico)\n",
        "  im = im.convert('RGBA')\n",
        "  im_matrix = np.array(im)\n",
        "  im_ = make_bin_im(im_matrix)\n",
        "  X_train.append(im_)\n",
        "y_train = [1, 0]\n",
        "\n",
        "\n",
        "X_test = []\n",
        "for ico in ['11.ico', '01.ico']:\n",
        "  im = Image.open(ico)\n",
        "  im = im.convert('RGBA')\n",
        "  im_matrix = np.array(im)\n",
        "  im_ = make_bin_im(im_matrix)\n",
        "  X_test.append(im_)\n",
        "y_test = [1, 0]"
      ],
      "metadata": {
        "id": "5k0pUb3JqwWR"
      },
      "execution_count": 6,
      "outputs": []
    },
    {
      "cell_type": "code",
      "source": [
        "clf = MLPClassifier(random_state=42).fit(X_train, y_train)\n",
        "clf.predict_proba(X_test)"
      ],
      "metadata": {
        "colab": {
          "base_uri": "https://localhost:8080/"
        },
        "id": "yYEQ-k0rqqys",
        "outputId": "542ec791-e4fd-4815-d161-6dfb7a08ce43"
      },
      "execution_count": 7,
      "outputs": [
        {
          "output_type": "execute_result",
          "data": {
            "text/plain": [
              "array([[0.04606285, 0.95393715],\n",
              "       [0.99310957, 0.00689043]])"
            ]
          },
          "metadata": {},
          "execution_count": 7
        }
      ]
    },
    {
      "cell_type": "code",
      "source": [
        "clf.predict(X_test)"
      ],
      "metadata": {
        "colab": {
          "base_uri": "https://localhost:8080/"
        },
        "id": "cGVnpbT6sJgx",
        "outputId": "1a125741-55e4-4d22-adbf-412b3b4910c5"
      },
      "execution_count": 8,
      "outputs": [
        {
          "output_type": "execute_result",
          "data": {
            "text/plain": [
              "array([1, 0])"
            ]
          },
          "metadata": {},
          "execution_count": 8
        }
      ]
    },
    {
      "cell_type": "code",
      "source": [
        "clf.score(X_test, y_test)"
      ],
      "metadata": {
        "colab": {
          "base_uri": "https://localhost:8080/"
        },
        "id": "r4kbCyjDsOYD",
        "outputId": "95f33da1-406a-4076-df7a-551e43b1b736"
      },
      "execution_count": 9,
      "outputs": [
        {
          "output_type": "execute_result",
          "data": {
            "text/plain": [
              "1.0"
            ]
          },
          "metadata": {},
          "execution_count": 9
        }
      ]
    },
    {
      "cell_type": "code",
      "source": [
        "import matplotlib.pyplot as plt\n",
        "\n",
        "fig, axes = plt.subplots(4, 4)\n",
        "vmin, vmax = clf.coefs_[0].min(), clf.coefs_[0].max()\n",
        "for coef, ax in zip(clf.coefs_[0].T, axes.ravel()):\n",
        "    ax.matshow(coef.reshape(16, 16), cmap=plt.cm.gray, vmin=0.5 * vmin, vmax=0.5 * vmax)\n",
        "    ax.set_xticks(())\n",
        "    ax.set_yticks(())\n",
        "\n",
        "plt.show()"
      ],
      "metadata": {
        "colab": {
          "base_uri": "https://localhost:8080/",
          "height": 406
        },
        "id": "NYQ611desSJ_",
        "outputId": "035d0996-888f-49cc-fda6-bec65b7baaf3"
      },
      "execution_count": 10,
      "outputs": [
        {
          "output_type": "display_data",
          "data": {
            "text/plain": [
              "<Figure size 640x480 with 16 Axes>"
            ],
            "image/png": "[encoded data removed]"
          },
          "metadata": {}
        }
      ]
    }
  ]
}