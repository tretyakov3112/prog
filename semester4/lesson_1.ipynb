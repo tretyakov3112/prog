{
 "cells": [
  {
   "cell_type": "markdown",
   "id": "c4ee07f6",
   "metadata": {},
   "source": [
    "# Занятие 1"
   ]
  },
  {
   "cell_type": "markdown",
   "id": "cbb113eb",
   "metadata": {},
   "source": [
    "Библиотека Pandas предоставляет классы и функционал для чтения, обработки и визуализации данных, хранящихся в различных форматах. "
   ]
  },
  {
   "cell_type": "markdown",
   "id": "dd85e1ad",
   "metadata": {},
   "source": [
    "### Форматы данных\n",
    "\n",
    "**CSV (от англ. Comma-Separated Values — значения, разделённые запятыми)** — текстовый формат, предназначенный для представления табличных данных. \n",
    "В pandas чтение данных с помощью pd.read_csv(), а запись - pd.to_csv().\n"
   ]
  },
  {
   "cell_type": "code",
   "execution_count": 96,
   "id": "2f8eba09",
   "metadata": {},
   "outputs": [],
   "source": [
    "import pandas as pd\n",
    "import numpy as np\n",
    "import json"
   ]
  },
  {
   "cell_type": "code",
   "execution_count": 58,
   "id": "19cdff80",
   "metadata": {},
   "outputs": [],
   "source": [
    "df = pd.read_csv('Churn_Modelling.csv')"
   ]
  },
  {
   "cell_type": "markdown",
   "id": "46b1a57f",
   "metadata": {},
   "source": [
    "Посмотрим первые 10 строк загруженных данных:"
   ]
  },
  {
   "cell_type": "code",
   "execution_count": 59,
   "id": "1748c630",
   "metadata": {},
   "outputs": [
    {
     "data": {
      "text/html": [
       "<div>\n",
       "<style scoped>\n",
       "    .dataframe tbody tr th:only-of-type {\n",
       "        vertical-align: middle;\n",
       "    }\n",
       "\n",
       "    .dataframe tbody tr th {\n",
       "        vertical-align: top;\n",
       "    }\n",
       "\n",
       "    .dataframe thead th {\n",
       "        text-align: right;\n",
       "    }\n",
       "</style>\n",
       "<table border=\"1\" class=\"dataframe\">\n",
       "  <thead>\n",
       "    <tr style=\"text-align: right;\">\n",
       "      <th></th>\n",
       "      <th>RowNumber</th>\n",
       "      <th>CustomerId</th>\n",
       "      <th>Surname</th>\n",
       "      <th>CreditScore</th>\n",
       "      <th>Geography</th>\n",
       "      <th>Gender</th>\n",
       "      <th>Age</th>\n",
       "      <th>Tenure</th>\n",
       "      <th>Balance</th>\n",
       "      <th>NumOfProducts</th>\n",
       "      <th>HasCrCard</th>\n",
       "      <th>IsActiveMember</th>\n",
       "      <th>EstimatedSalary</th>\n",
       "      <th>Exited</th>\n",
       "    </tr>\n",
       "  </thead>\n",
       "  <tbody>\n",
       "    <tr>\n",
       "      <th>0</th>\n",
       "      <td>1</td>\n",
       "      <td>15634602</td>\n",
       "      <td>Hargrave</td>\n",
       "      <td>619</td>\n",
       "      <td>France</td>\n",
       "      <td>Female</td>\n",
       "      <td>42</td>\n",
       "      <td>2</td>\n",
       "      <td>0.00</td>\n",
       "      <td>1</td>\n",
       "      <td>1</td>\n",
       "      <td>1</td>\n",
       "      <td>101348.88</td>\n",
       "      <td>1</td>\n",
       "    </tr>\n",
       "    <tr>\n",
       "      <th>1</th>\n",
       "      <td>2</td>\n",
       "      <td>15647311</td>\n",
       "      <td>Hill</td>\n",
       "      <td>608</td>\n",
       "      <td>Spain</td>\n",
       "      <td>Female</td>\n",
       "      <td>41</td>\n",
       "      <td>1</td>\n",
       "      <td>83807.86</td>\n",
       "      <td>1</td>\n",
       "      <td>0</td>\n",
       "      <td>1</td>\n",
       "      <td>112542.58</td>\n",
       "      <td>0</td>\n",
       "    </tr>\n",
       "    <tr>\n",
       "      <th>2</th>\n",
       "      <td>3</td>\n",
       "      <td>15619304</td>\n",
       "      <td>Onio</td>\n",
       "      <td>502</td>\n",
       "      <td>France</td>\n",
       "      <td>Female</td>\n",
       "      <td>42</td>\n",
       "      <td>8</td>\n",
       "      <td>159660.80</td>\n",
       "      <td>3</td>\n",
       "      <td>1</td>\n",
       "      <td>0</td>\n",
       "      <td>113931.57</td>\n",
       "      <td>1</td>\n",
       "    </tr>\n",
       "    <tr>\n",
       "      <th>3</th>\n",
       "      <td>4</td>\n",
       "      <td>15701354</td>\n",
       "      <td>Boni</td>\n",
       "      <td>699</td>\n",
       "      <td>France</td>\n",
       "      <td>Female</td>\n",
       "      <td>39</td>\n",
       "      <td>1</td>\n",
       "      <td>0.00</td>\n",
       "      <td>2</td>\n",
       "      <td>0</td>\n",
       "      <td>0</td>\n",
       "      <td>93826.63</td>\n",
       "      <td>0</td>\n",
       "    </tr>\n",
       "    <tr>\n",
       "      <th>4</th>\n",
       "      <td>5</td>\n",
       "      <td>15737888</td>\n",
       "      <td>Mitchell</td>\n",
       "      <td>850</td>\n",
       "      <td>Spain</td>\n",
       "      <td>Female</td>\n",
       "      <td>43</td>\n",
       "      <td>2</td>\n",
       "      <td>125510.82</td>\n",
       "      <td>1</td>\n",
       "      <td>1</td>\n",
       "      <td>1</td>\n",
       "      <td>79084.10</td>\n",
       "      <td>0</td>\n",
       "    </tr>\n",
       "    <tr>\n",
       "      <th>5</th>\n",
       "      <td>6</td>\n",
       "      <td>15574012</td>\n",
       "      <td>Chu</td>\n",
       "      <td>645</td>\n",
       "      <td>Spain</td>\n",
       "      <td>Male</td>\n",
       "      <td>44</td>\n",
       "      <td>8</td>\n",
       "      <td>113755.78</td>\n",
       "      <td>2</td>\n",
       "      <td>1</td>\n",
       "      <td>0</td>\n",
       "      <td>149756.71</td>\n",
       "      <td>1</td>\n",
       "    </tr>\n",
       "    <tr>\n",
       "      <th>6</th>\n",
       "      <td>7</td>\n",
       "      <td>15592531</td>\n",
       "      <td>Bartlett</td>\n",
       "      <td>822</td>\n",
       "      <td>France</td>\n",
       "      <td>Male</td>\n",
       "      <td>50</td>\n",
       "      <td>7</td>\n",
       "      <td>0.00</td>\n",
       "      <td>2</td>\n",
       "      <td>1</td>\n",
       "      <td>1</td>\n",
       "      <td>10062.80</td>\n",
       "      <td>0</td>\n",
       "    </tr>\n",
       "    <tr>\n",
       "      <th>7</th>\n",
       "      <td>8</td>\n",
       "      <td>15656148</td>\n",
       "      <td>Obinna</td>\n",
       "      <td>376</td>\n",
       "      <td>Germany</td>\n",
       "      <td>Female</td>\n",
       "      <td>29</td>\n",
       "      <td>4</td>\n",
       "      <td>115046.74</td>\n",
       "      <td>4</td>\n",
       "      <td>1</td>\n",
       "      <td>0</td>\n",
       "      <td>119346.88</td>\n",
       "      <td>1</td>\n",
       "    </tr>\n",
       "    <tr>\n",
       "      <th>8</th>\n",
       "      <td>9</td>\n",
       "      <td>15792365</td>\n",
       "      <td>He</td>\n",
       "      <td>501</td>\n",
       "      <td>France</td>\n",
       "      <td>Male</td>\n",
       "      <td>44</td>\n",
       "      <td>4</td>\n",
       "      <td>142051.07</td>\n",
       "      <td>2</td>\n",
       "      <td>0</td>\n",
       "      <td>1</td>\n",
       "      <td>74940.50</td>\n",
       "      <td>0</td>\n",
       "    </tr>\n",
       "    <tr>\n",
       "      <th>9</th>\n",
       "      <td>10</td>\n",
       "      <td>15592389</td>\n",
       "      <td>H?</td>\n",
       "      <td>684</td>\n",
       "      <td>France</td>\n",
       "      <td>Male</td>\n",
       "      <td>27</td>\n",
       "      <td>2</td>\n",
       "      <td>134603.88</td>\n",
       "      <td>1</td>\n",
       "      <td>1</td>\n",
       "      <td>1</td>\n",
       "      <td>71725.73</td>\n",
       "      <td>0</td>\n",
       "    </tr>\n",
       "  </tbody>\n",
       "</table>\n",
       "</div>"
      ],
      "text/plain": [
       "   RowNumber  CustomerId   Surname  CreditScore Geography  Gender  Age  \\\n",
       "0          1    15634602  Hargrave          619    France  Female   42   \n",
       "1          2    15647311      Hill          608     Spain  Female   41   \n",
       "2          3    15619304      Onio          502    France  Female   42   \n",
       "3          4    15701354      Boni          699    France  Female   39   \n",
       "4          5    15737888  Mitchell          850     Spain  Female   43   \n",
       "5          6    15574012       Chu          645     Spain    Male   44   \n",
       "6          7    15592531  Bartlett          822    France    Male   50   \n",
       "7          8    15656148    Obinna          376   Germany  Female   29   \n",
       "8          9    15792365        He          501    France    Male   44   \n",
       "9         10    15592389        H?          684    France    Male   27   \n",
       "\n",
       "   Tenure    Balance  NumOfProducts  HasCrCard  IsActiveMember  \\\n",
       "0       2       0.00              1          1               1   \n",
       "1       1   83807.86              1          0               1   \n",
       "2       8  159660.80              3          1               0   \n",
       "3       1       0.00              2          0               0   \n",
       "4       2  125510.82              1          1               1   \n",
       "5       8  113755.78              2          1               0   \n",
       "6       7       0.00              2          1               1   \n",
       "7       4  115046.74              4          1               0   \n",
       "8       4  142051.07              2          0               1   \n",
       "9       2  134603.88              1          1               1   \n",
       "\n",
       "   EstimatedSalary  Exited  \n",
       "0        101348.88       1  \n",
       "1        112542.58       0  \n",
       "2        113931.57       1  \n",
       "3         93826.63       0  \n",
       "4         79084.10       0  \n",
       "5        149756.71       1  \n",
       "6         10062.80       0  \n",
       "7        119346.88       1  \n",
       "8         74940.50       0  \n",
       "9         71725.73       0  "
      ]
     },
     "execution_count": 59,
     "metadata": {},
     "output_type": "execute_result"
    }
   ],
   "source": [
    "df.head(10)"
   ]
  },
  {
   "cell_type": "markdown",
   "id": "76789ddb",
   "metadata": {},
   "source": [
    "Выведим последнии 5 строк датафрейма:"
   ]
  },
  {
   "cell_type": "code",
   "execution_count": 60,
   "id": "4f42b599",
   "metadata": {},
   "outputs": [
    {
     "data": {
      "text/html": [
       "<div>\n",
       "<style scoped>\n",
       "    .dataframe tbody tr th:only-of-type {\n",
       "        vertical-align: middle;\n",
       "    }\n",
       "\n",
       "    .dataframe tbody tr th {\n",
       "        vertical-align: top;\n",
       "    }\n",
       "\n",
       "    .dataframe thead th {\n",
       "        text-align: right;\n",
       "    }\n",
       "</style>\n",
       "<table border=\"1\" class=\"dataframe\">\n",
       "  <thead>\n",
       "    <tr style=\"text-align: right;\">\n",
       "      <th></th>\n",
       "      <th>RowNumber</th>\n",
       "      <th>CustomerId</th>\n",
       "      <th>Surname</th>\n",
       "      <th>CreditScore</th>\n",
       "      <th>Geography</th>\n",
       "      <th>Gender</th>\n",
       "      <th>Age</th>\n",
       "      <th>Tenure</th>\n",
       "      <th>Balance</th>\n",
       "      <th>NumOfProducts</th>\n",
       "      <th>HasCrCard</th>\n",
       "      <th>IsActiveMember</th>\n",
       "      <th>EstimatedSalary</th>\n",
       "      <th>Exited</th>\n",
       "    </tr>\n",
       "  </thead>\n",
       "  <tbody>\n",
       "    <tr>\n",
       "      <th>9990</th>\n",
       "      <td>9991</td>\n",
       "      <td>15798964</td>\n",
       "      <td>Nkemakonam</td>\n",
       "      <td>714</td>\n",
       "      <td>Germany</td>\n",
       "      <td>Male</td>\n",
       "      <td>33</td>\n",
       "      <td>3</td>\n",
       "      <td>35016.60</td>\n",
       "      <td>1</td>\n",
       "      <td>1</td>\n",
       "      <td>0</td>\n",
       "      <td>53667.08</td>\n",
       "      <td>0</td>\n",
       "    </tr>\n",
       "    <tr>\n",
       "      <th>9991</th>\n",
       "      <td>9992</td>\n",
       "      <td>15769959</td>\n",
       "      <td>Ajuluchukwu</td>\n",
       "      <td>597</td>\n",
       "      <td>France</td>\n",
       "      <td>Female</td>\n",
       "      <td>53</td>\n",
       "      <td>4</td>\n",
       "      <td>88381.21</td>\n",
       "      <td>1</td>\n",
       "      <td>1</td>\n",
       "      <td>0</td>\n",
       "      <td>69384.71</td>\n",
       "      <td>1</td>\n",
       "    </tr>\n",
       "    <tr>\n",
       "      <th>9992</th>\n",
       "      <td>9993</td>\n",
       "      <td>15657105</td>\n",
       "      <td>Chukwualuka</td>\n",
       "      <td>726</td>\n",
       "      <td>Spain</td>\n",
       "      <td>Male</td>\n",
       "      <td>36</td>\n",
       "      <td>2</td>\n",
       "      <td>0.00</td>\n",
       "      <td>1</td>\n",
       "      <td>1</td>\n",
       "      <td>0</td>\n",
       "      <td>195192.40</td>\n",
       "      <td>0</td>\n",
       "    </tr>\n",
       "    <tr>\n",
       "      <th>9993</th>\n",
       "      <td>9994</td>\n",
       "      <td>15569266</td>\n",
       "      <td>Rahman</td>\n",
       "      <td>644</td>\n",
       "      <td>France</td>\n",
       "      <td>Male</td>\n",
       "      <td>28</td>\n",
       "      <td>7</td>\n",
       "      <td>155060.41</td>\n",
       "      <td>1</td>\n",
       "      <td>1</td>\n",
       "      <td>0</td>\n",
       "      <td>29179.52</td>\n",
       "      <td>0</td>\n",
       "    </tr>\n",
       "    <tr>\n",
       "      <th>9994</th>\n",
       "      <td>9995</td>\n",
       "      <td>15719294</td>\n",
       "      <td>Wood</td>\n",
       "      <td>800</td>\n",
       "      <td>France</td>\n",
       "      <td>Female</td>\n",
       "      <td>29</td>\n",
       "      <td>2</td>\n",
       "      <td>0.00</td>\n",
       "      <td>2</td>\n",
       "      <td>0</td>\n",
       "      <td>0</td>\n",
       "      <td>167773.55</td>\n",
       "      <td>0</td>\n",
       "    </tr>\n",
       "    <tr>\n",
       "      <th>9995</th>\n",
       "      <td>9996</td>\n",
       "      <td>15606229</td>\n",
       "      <td>Obijiaku</td>\n",
       "      <td>771</td>\n",
       "      <td>France</td>\n",
       "      <td>Male</td>\n",
       "      <td>39</td>\n",
       "      <td>5</td>\n",
       "      <td>0.00</td>\n",
       "      <td>2</td>\n",
       "      <td>1</td>\n",
       "      <td>0</td>\n",
       "      <td>96270.64</td>\n",
       "      <td>0</td>\n",
       "    </tr>\n",
       "    <tr>\n",
       "      <th>9996</th>\n",
       "      <td>9997</td>\n",
       "      <td>15569892</td>\n",
       "      <td>Johnstone</td>\n",
       "      <td>516</td>\n",
       "      <td>France</td>\n",
       "      <td>Male</td>\n",
       "      <td>35</td>\n",
       "      <td>10</td>\n",
       "      <td>57369.61</td>\n",
       "      <td>1</td>\n",
       "      <td>1</td>\n",
       "      <td>1</td>\n",
       "      <td>101699.77</td>\n",
       "      <td>0</td>\n",
       "    </tr>\n",
       "    <tr>\n",
       "      <th>9997</th>\n",
       "      <td>9998</td>\n",
       "      <td>15584532</td>\n",
       "      <td>Liu</td>\n",
       "      <td>709</td>\n",
       "      <td>France</td>\n",
       "      <td>Female</td>\n",
       "      <td>36</td>\n",
       "      <td>7</td>\n",
       "      <td>0.00</td>\n",
       "      <td>1</td>\n",
       "      <td>0</td>\n",
       "      <td>1</td>\n",
       "      <td>42085.58</td>\n",
       "      <td>1</td>\n",
       "    </tr>\n",
       "    <tr>\n",
       "      <th>9998</th>\n",
       "      <td>9999</td>\n",
       "      <td>15682355</td>\n",
       "      <td>Sabbatini</td>\n",
       "      <td>772</td>\n",
       "      <td>Germany</td>\n",
       "      <td>Male</td>\n",
       "      <td>42</td>\n",
       "      <td>3</td>\n",
       "      <td>75075.31</td>\n",
       "      <td>2</td>\n",
       "      <td>1</td>\n",
       "      <td>0</td>\n",
       "      <td>92888.52</td>\n",
       "      <td>1</td>\n",
       "    </tr>\n",
       "    <tr>\n",
       "      <th>9999</th>\n",
       "      <td>10000</td>\n",
       "      <td>15628319</td>\n",
       "      <td>Walker</td>\n",
       "      <td>792</td>\n",
       "      <td>France</td>\n",
       "      <td>Female</td>\n",
       "      <td>28</td>\n",
       "      <td>4</td>\n",
       "      <td>130142.79</td>\n",
       "      <td>1</td>\n",
       "      <td>1</td>\n",
       "      <td>0</td>\n",
       "      <td>38190.78</td>\n",
       "      <td>0</td>\n",
       "    </tr>\n",
       "  </tbody>\n",
       "</table>\n",
       "</div>"
      ],
      "text/plain": [
       "      RowNumber  CustomerId      Surname  CreditScore Geography  Gender  Age  \\\n",
       "9990       9991    15798964   Nkemakonam          714   Germany    Male   33   \n",
       "9991       9992    15769959  Ajuluchukwu          597    France  Female   53   \n",
       "9992       9993    15657105  Chukwualuka          726     Spain    Male   36   \n",
       "9993       9994    15569266       Rahman          644    France    Male   28   \n",
       "9994       9995    15719294         Wood          800    France  Female   29   \n",
       "9995       9996    15606229     Obijiaku          771    France    Male   39   \n",
       "9996       9997    15569892    Johnstone          516    France    Male   35   \n",
       "9997       9998    15584532          Liu          709    France  Female   36   \n",
       "9998       9999    15682355    Sabbatini          772   Germany    Male   42   \n",
       "9999      10000    15628319       Walker          792    France  Female   28   \n",
       "\n",
       "      Tenure    Balance  NumOfProducts  HasCrCard  IsActiveMember  \\\n",
       "9990       3   35016.60              1          1               0   \n",
       "9991       4   88381.21              1          1               0   \n",
       "9992       2       0.00              1          1               0   \n",
       "9993       7  155060.41              1          1               0   \n",
       "9994       2       0.00              2          0               0   \n",
       "9995       5       0.00              2          1               0   \n",
       "9996      10   57369.61              1          1               1   \n",
       "9997       7       0.00              1          0               1   \n",
       "9998       3   75075.31              2          1               0   \n",
       "9999       4  130142.79              1          1               0   \n",
       "\n",
       "      EstimatedSalary  Exited  \n",
       "9990         53667.08       0  \n",
       "9991         69384.71       1  \n",
       "9992        195192.40       0  \n",
       "9993         29179.52       0  \n",
       "9994        167773.55       0  \n",
       "9995         96270.64       0  \n",
       "9996        101699.77       0  \n",
       "9997         42085.58       1  \n",
       "9998         92888.52       1  \n",
       "9999         38190.78       0  "
      ]
     },
     "execution_count": 60,
     "metadata": {},
     "output_type": "execute_result"
    }
   ],
   "source": [
    "df.tail(10)"
   ]
  },
  {
   "cell_type": "markdown",
   "id": "d6379a93",
   "metadata": {},
   "source": [
    "Вывести заданное число случайно выбранных строк можно через:"
   ]
  },
  {
   "cell_type": "code",
   "execution_count": 65,
   "id": "f9f80a59",
   "metadata": {},
   "outputs": [
    {
     "data": {
      "text/html": [
       "<div>\n",
       "<style scoped>\n",
       "    .dataframe tbody tr th:only-of-type {\n",
       "        vertical-align: middle;\n",
       "    }\n",
       "\n",
       "    .dataframe tbody tr th {\n",
       "        vertical-align: top;\n",
       "    }\n",
       "\n",
       "    .dataframe thead th {\n",
       "        text-align: right;\n",
       "    }\n",
       "</style>\n",
       "<table border=\"1\" class=\"dataframe\">\n",
       "  <thead>\n",
       "    <tr style=\"text-align: right;\">\n",
       "      <th></th>\n",
       "      <th>RowNumber</th>\n",
       "      <th>CustomerId</th>\n",
       "      <th>Surname</th>\n",
       "      <th>CreditScore</th>\n",
       "      <th>Geography</th>\n",
       "      <th>Gender</th>\n",
       "      <th>Age</th>\n",
       "      <th>Tenure</th>\n",
       "      <th>Balance</th>\n",
       "      <th>NumOfProducts</th>\n",
       "      <th>HasCrCard</th>\n",
       "      <th>IsActiveMember</th>\n",
       "      <th>EstimatedSalary</th>\n",
       "      <th>Exited</th>\n",
       "    </tr>\n",
       "  </thead>\n",
       "  <tbody>\n",
       "    <tr>\n",
       "      <th>948</th>\n",
       "      <td>949</td>\n",
       "      <td>15783659</td>\n",
       "      <td>Blackburn</td>\n",
       "      <td>659</td>\n",
       "      <td>France</td>\n",
       "      <td>Male</td>\n",
       "      <td>67</td>\n",
       "      <td>4</td>\n",
       "      <td>145981.87</td>\n",
       "      <td>1</td>\n",
       "      <td>1</td>\n",
       "      <td>1</td>\n",
       "      <td>131043.20</td>\n",
       "      <td>0</td>\n",
       "    </tr>\n",
       "    <tr>\n",
       "      <th>2467</th>\n",
       "      <td>2468</td>\n",
       "      <td>15716518</td>\n",
       "      <td>Yuryeva</td>\n",
       "      <td>617</td>\n",
       "      <td>France</td>\n",
       "      <td>Female</td>\n",
       "      <td>27</td>\n",
       "      <td>4</td>\n",
       "      <td>0.00</td>\n",
       "      <td>2</td>\n",
       "      <td>0</td>\n",
       "      <td>0</td>\n",
       "      <td>190269.21</td>\n",
       "      <td>0</td>\n",
       "    </tr>\n",
       "    <tr>\n",
       "      <th>9400</th>\n",
       "      <td>9401</td>\n",
       "      <td>15584897</td>\n",
       "      <td>Kuo</td>\n",
       "      <td>639</td>\n",
       "      <td>France</td>\n",
       "      <td>Female</td>\n",
       "      <td>31</td>\n",
       "      <td>3</td>\n",
       "      <td>98360.03</td>\n",
       "      <td>1</td>\n",
       "      <td>0</td>\n",
       "      <td>0</td>\n",
       "      <td>20973.80</td>\n",
       "      <td>0</td>\n",
       "    </tr>\n",
       "  </tbody>\n",
       "</table>\n",
       "</div>"
      ],
      "text/plain": [
       "      RowNumber  CustomerId    Surname  CreditScore Geography  Gender  Age  \\\n",
       "948         949    15783659  Blackburn          659    France    Male   67   \n",
       "2467       2468    15716518    Yuryeva          617    France  Female   27   \n",
       "9400       9401    15584897        Kuo          639    France  Female   31   \n",
       "\n",
       "      Tenure    Balance  NumOfProducts  HasCrCard  IsActiveMember  \\\n",
       "948        4  145981.87              1          1               1   \n",
       "2467       4       0.00              2          0               0   \n",
       "9400       3   98360.03              1          0               0   \n",
       "\n",
       "      EstimatedSalary  Exited  \n",
       "948         131043.20       0  \n",
       "2467        190269.21       0  \n",
       "9400         20973.80       0  "
      ]
     },
     "execution_count": 65,
     "metadata": {},
     "output_type": "execute_result"
    }
   ],
   "source": [
    "df.sample(3)"
   ]
  },
  {
   "cell_type": "code",
   "execution_count": 66,
   "id": "f9fa9986",
   "metadata": {},
   "outputs": [
    {
     "data": {
      "text/html": [
       "<div>\n",
       "<style scoped>\n",
       "    .dataframe tbody tr th:only-of-type {\n",
       "        vertical-align: middle;\n",
       "    }\n",
       "\n",
       "    .dataframe tbody tr th {\n",
       "        vertical-align: top;\n",
       "    }\n",
       "\n",
       "    .dataframe thead th {\n",
       "        text-align: right;\n",
       "    }\n",
       "</style>\n",
       "<table border=\"1\" class=\"dataframe\">\n",
       "  <thead>\n",
       "    <tr style=\"text-align: right;\">\n",
       "      <th></th>\n",
       "      <th>RowNumber</th>\n",
       "      <th>CustomerId</th>\n",
       "      <th>Surname</th>\n",
       "      <th>CreditScore</th>\n",
       "      <th>Geography</th>\n",
       "      <th>Gender</th>\n",
       "      <th>Age</th>\n",
       "      <th>Tenure</th>\n",
       "      <th>Balance</th>\n",
       "      <th>NumOfProducts</th>\n",
       "      <th>HasCrCard</th>\n",
       "      <th>IsActiveMember</th>\n",
       "      <th>EstimatedSalary</th>\n",
       "      <th>Exited</th>\n",
       "    </tr>\n",
       "  </thead>\n",
       "  <tbody>\n",
       "    <tr>\n",
       "      <th>9953</th>\n",
       "      <td>9954</td>\n",
       "      <td>15655952</td>\n",
       "      <td>Burke</td>\n",
       "      <td>550</td>\n",
       "      <td>France</td>\n",
       "      <td>Male</td>\n",
       "      <td>47</td>\n",
       "      <td>2</td>\n",
       "      <td>0.00</td>\n",
       "      <td>2</td>\n",
       "      <td>1</td>\n",
       "      <td>1</td>\n",
       "      <td>97057.28</td>\n",
       "      <td>0</td>\n",
       "    </tr>\n",
       "    <tr>\n",
       "      <th>3850</th>\n",
       "      <td>3851</td>\n",
       "      <td>15775293</td>\n",
       "      <td>Stephenson</td>\n",
       "      <td>680</td>\n",
       "      <td>France</td>\n",
       "      <td>Male</td>\n",
       "      <td>34</td>\n",
       "      <td>3</td>\n",
       "      <td>143292.95</td>\n",
       "      <td>1</td>\n",
       "      <td>1</td>\n",
       "      <td>0</td>\n",
       "      <td>66526.01</td>\n",
       "      <td>0</td>\n",
       "    </tr>\n",
       "    <tr>\n",
       "      <th>4962</th>\n",
       "      <td>4963</td>\n",
       "      <td>15665088</td>\n",
       "      <td>Gordon</td>\n",
       "      <td>531</td>\n",
       "      <td>France</td>\n",
       "      <td>Female</td>\n",
       "      <td>42</td>\n",
       "      <td>2</td>\n",
       "      <td>0.00</td>\n",
       "      <td>2</td>\n",
       "      <td>0</td>\n",
       "      <td>1</td>\n",
       "      <td>90537.47</td>\n",
       "      <td>0</td>\n",
       "    </tr>\n",
       "  </tbody>\n",
       "</table>\n",
       "</div>"
      ],
      "text/plain": [
       "      RowNumber  CustomerId     Surname  CreditScore Geography  Gender  Age  \\\n",
       "9953       9954    15655952       Burke          550    France    Male   47   \n",
       "3850       3851    15775293  Stephenson          680    France    Male   34   \n",
       "4962       4963    15665088      Gordon          531    France  Female   42   \n",
       "\n",
       "      Tenure    Balance  NumOfProducts  HasCrCard  IsActiveMember  \\\n",
       "9953       2       0.00              2          1               1   \n",
       "3850       3  143292.95              1          1               0   \n",
       "4962       2       0.00              2          0               1   \n",
       "\n",
       "      EstimatedSalary  Exited  \n",
       "9953         97057.28       0  \n",
       "3850         66526.01       0  \n",
       "4962         90537.47       0  "
      ]
     },
     "execution_count": 66,
     "metadata": {},
     "output_type": "execute_result"
    }
   ],
   "source": [
    "df.sample(3, random_state = 1)"
   ]
  },
  {
   "cell_type": "markdown",
   "id": "ca1fe515",
   "metadata": {},
   "source": [
    "Отберём клиентов с CreditScore больше чем 500 и проживающих во Испании."
   ]
  },
  {
   "cell_type": "code",
   "execution_count": 67,
   "id": "314db7b4",
   "metadata": {},
   "outputs": [],
   "source": [
    "df_new = df[(df['CreditScore'] > 500) & ((df['Geography'] == 'Spain')|(df['Geography'] == 'Spain'))]"
   ]
  },
  {
   "cell_type": "markdown",
   "id": "39355557",
   "metadata": {},
   "source": [
    "Посчитаем сколько таких клиентов:"
   ]
  },
  {
   "cell_type": "code",
   "execution_count": 68,
   "id": "8c259ab9",
   "metadata": {},
   "outputs": [
    {
     "data": {
      "text/plain": [
       "2339"
      ]
     },
     "execution_count": 68,
     "metadata": {},
     "output_type": "execute_result"
    }
   ],
   "source": [
    "len(df_new)"
   ]
  },
  {
   "cell_type": "code",
   "execution_count": 69,
   "id": "ad04175f",
   "metadata": {},
   "outputs": [
    {
     "name": "stderr",
     "output_type": "stream",
     "text": [
      "C:\\Users\\medve\\AppData\\Local\\Temp\\ipykernel_21344\\1456189035.py:1: SettingWithCopyWarning: \n",
      "A value is trying to be set on a copy of a slice from a DataFrame.\n",
      "Try using .loc[row_indexer,col_indexer] = value instead\n",
      "\n",
      "See the caveats in the documentation: https://pandas.pydata.org/pandas-docs/stable/user_guide/indexing.html#returning-a-view-versus-a-copy\n",
      "  df_new['rel'] = df['CreditScore'] / df['CreditScore'].mean()\n"
     ]
    }
   ],
   "source": [
    "df_new['rel'] = df['CreditScore'] / df['CreditScore'].mean()"
   ]
  },
  {
   "cell_type": "code",
   "execution_count": 70,
   "id": "5023ed53",
   "metadata": {},
   "outputs": [],
   "source": [
    "df_new = df[(df['CreditScore'] > 500) & ((df['Geography'] == 'Spain')|(df['Geography'] == 'Spain'))].copy()"
   ]
  },
  {
   "cell_type": "code",
   "execution_count": 71,
   "id": "8ce18166",
   "metadata": {},
   "outputs": [],
   "source": [
    "df_new['rel'] = df['CreditScore'] / df['CreditScore'].mean()"
   ]
  },
  {
   "cell_type": "code",
   "execution_count": 72,
   "id": "e9a6f2e0",
   "metadata": {},
   "outputs": [
    {
     "data": {
      "text/plain": [
       "Index(['RowNumber', 'CustomerId', 'Surname', 'CreditScore', 'Geography',\n",
       "       'Gender', 'Age', 'Tenure', 'Balance', 'NumOfProducts', 'HasCrCard',\n",
       "       'IsActiveMember', 'EstimatedSalary', 'Exited', 'rel'],\n",
       "      dtype='object')"
      ]
     },
     "execution_count": 72,
     "metadata": {},
     "output_type": "execute_result"
    }
   ],
   "source": [
    "df_new.columns"
   ]
  },
  {
   "cell_type": "markdown",
   "id": "1bfbe1a1",
   "metadata": {},
   "source": [
    "Запишем получившийся срез оставив столбцы: CustomerId, Surname, CreditScore, Geography, Gender, Age, Balance, NumOfProducts и HasCrCard."
   ]
  },
  {
   "cell_type": "code",
   "execution_count": 73,
   "id": "e25c419f",
   "metadata": {},
   "outputs": [],
   "source": [
    "df_new[['CustomerId', 'Surname', 'CreditScore', 'Geography', 'Gender', 'Age', 'Balance', 'NumOfProducts', 'HasCrCard']].to_csv('scoring_data.csv', index = False)"
   ]
  },
  {
   "cell_type": "markdown",
   "id": "a8a4e0d3",
   "metadata": {},
   "source": [
    "**JSON (англ. JavaScript Object Notation)** — текстовый формат обмена данными, основанный на JavaScript. Изначально разработанный для JavaScript этот формат данных не зависит от языка программирования и подходит для хранения сложных данных.\n",
    "\n",
    "Разработан формат JSON в начале 2000-х годов Дугласом Крокфордом."
   ]
  },
  {
   "cell_type": "markdown",
   "id": "b064f89e",
   "metadata": {},
   "source": [
    "В Python для создания данных JSON можно использовать вложенные словари. Каждый элемент во внешнем словаре соответствует столбцу в файле JSON.\n",
    "\n",
    "Ключ каждого элемента – заголовок столбца, а значение – другой словарь, состоящий из строк столбца. "
   ]
  },
  {
   "cell_type": "code",
   "execution_count": 74,
   "id": "55f40509",
   "metadata": {},
   "outputs": [],
   "source": [
    "clients = {\n",
    "         \"Name\":{\"0\":\"John\",\"1\":\"Nick\",\"2\":\"Ali\",\"3\":\"Joseph\"},\n",
    "         \"Gender\":{\"0\":\"Male\",\"1\":\"Male\",\"2\":\"Female\",\"3\":\"Male\"},\n",
    "         \"Nationality\":{\"0\":\"UK\",\"1\":\"French\",\"2\":\"USA\",\"3\":\"Brazil\"},\n",
    "         \"Age\" :{\"0\":10,\"1\":25,\"2\":35,\"3\":29}\n",
    "}"
   ]
  },
  {
   "cell_type": "markdown",
   "id": "f8e45d4f",
   "metadata": {},
   "source": [
    "Другой способ создания данных в формате JSON – использование списка словарей. \n",
    "Каждый элемент в списке состоит из словаря, а каждый словарь представляет строку. Этот подход удобнее для чтения, по сравнению с использованием вложенных словарей.\n",
    "\n"
   ]
  },
  {
   "cell_type": "code",
   "execution_count": 75,
   "id": "46819089",
   "metadata": {},
   "outputs": [],
   "source": [
    "cars = [\n",
    "    {\"Name\":\"Honda\", \"Price\": 10000, \"Model\":2005, \"Power\": 1300},\n",
    "    {\"Name\":\"Toyota\", \"Price\": 12000, \"Model\":2010, \"Power\": 1600},\n",
    "    {\"Name\":\"Audi\", \"Price\": 25000, \"Model\":2017, \"Power\": 1800},\n",
    "    {\"Name\":\"Ford\", \"Price\": 28000, \"Model\":2009, \"Power\": 1200},\n",
    "         \n",
    "]"
   ]
  },
  {
   "cell_type": "markdown",
   "id": "47de2508",
   "metadata": {},
   "source": [
    "Для записи данных в формате JSON есть модуль json и метод dump()."
   ]
  },
  {
   "cell_type": "code",
   "execution_count": 76,
   "id": "bca060a8",
   "metadata": {},
   "outputs": [],
   "source": [
    "with open('clients.json', 'w') as f:\n",
    "    json.dump(clients, f)\n",
    "    \n",
    "with open('cars.json', 'w') as f:\n",
    "    json.dump(cars, f)  "
   ]
  },
  {
   "cell_type": "markdown",
   "id": "67210ee8",
   "metadata": {},
   "source": [
    "Для загрузки данных в формате JSON нам потребуется метод read_json(). "
   ]
  },
  {
   "cell_type": "code",
   "execution_count": 77,
   "id": "28272753",
   "metadata": {},
   "outputs": [
    {
     "data": {
      "text/html": [
       "<div>\n",
       "<style scoped>\n",
       "    .dataframe tbody tr th:only-of-type {\n",
       "        vertical-align: middle;\n",
       "    }\n",
       "\n",
       "    .dataframe tbody tr th {\n",
       "        vertical-align: top;\n",
       "    }\n",
       "\n",
       "    .dataframe thead th {\n",
       "        text-align: right;\n",
       "    }\n",
       "</style>\n",
       "<table border=\"1\" class=\"dataframe\">\n",
       "  <thead>\n",
       "    <tr style=\"text-align: right;\">\n",
       "      <th></th>\n",
       "      <th>Name</th>\n",
       "      <th>Gender</th>\n",
       "      <th>Nationality</th>\n",
       "      <th>Age</th>\n",
       "    </tr>\n",
       "  </thead>\n",
       "  <tbody>\n",
       "    <tr>\n",
       "      <th>0</th>\n",
       "      <td>John</td>\n",
       "      <td>Male</td>\n",
       "      <td>UK</td>\n",
       "      <td>10</td>\n",
       "    </tr>\n",
       "    <tr>\n",
       "      <th>1</th>\n",
       "      <td>Nick</td>\n",
       "      <td>Male</td>\n",
       "      <td>French</td>\n",
       "      <td>25</td>\n",
       "    </tr>\n",
       "    <tr>\n",
       "      <th>2</th>\n",
       "      <td>Ali</td>\n",
       "      <td>Female</td>\n",
       "      <td>USA</td>\n",
       "      <td>35</td>\n",
       "    </tr>\n",
       "    <tr>\n",
       "      <th>3</th>\n",
       "      <td>Joseph</td>\n",
       "      <td>Male</td>\n",
       "      <td>Brazil</td>\n",
       "      <td>29</td>\n",
       "    </tr>\n",
       "  </tbody>\n",
       "</table>\n",
       "</div>"
      ],
      "text/plain": [
       "     Name  Gender Nationality  Age\n",
       "0    John    Male          UK   10\n",
       "1    Nick    Male      French   25\n",
       "2     Ali  Female         USA   35\n",
       "3  Joseph    Male      Brazil   29"
      ]
     },
     "execution_count": 77,
     "metadata": {},
     "output_type": "execute_result"
    }
   ],
   "source": [
    "clients_df = pd.read_json('clients.json')\n",
    "clients_df.head()"
   ]
  },
  {
   "cell_type": "code",
   "execution_count": 79,
   "id": "89eb1e8c",
   "metadata": {},
   "outputs": [
    {
     "data": {
      "text/html": [
       "<div>\n",
       "<style scoped>\n",
       "    .dataframe tbody tr th:only-of-type {\n",
       "        vertical-align: middle;\n",
       "    }\n",
       "\n",
       "    .dataframe tbody tr th {\n",
       "        vertical-align: top;\n",
       "    }\n",
       "\n",
       "    .dataframe thead th {\n",
       "        text-align: right;\n",
       "    }\n",
       "</style>\n",
       "<table border=\"1\" class=\"dataframe\">\n",
       "  <thead>\n",
       "    <tr style=\"text-align: right;\">\n",
       "      <th></th>\n",
       "      <th>Name</th>\n",
       "      <th>Price</th>\n",
       "      <th>Model</th>\n",
       "      <th>Power</th>\n",
       "    </tr>\n",
       "  </thead>\n",
       "  <tbody>\n",
       "    <tr>\n",
       "      <th>0</th>\n",
       "      <td>Honda</td>\n",
       "      <td>10000</td>\n",
       "      <td>2005</td>\n",
       "      <td>1300</td>\n",
       "    </tr>\n",
       "    <tr>\n",
       "      <th>1</th>\n",
       "      <td>Toyota</td>\n",
       "      <td>12000</td>\n",
       "      <td>2010</td>\n",
       "      <td>1600</td>\n",
       "    </tr>\n",
       "    <tr>\n",
       "      <th>2</th>\n",
       "      <td>Audi</td>\n",
       "      <td>25000</td>\n",
       "      <td>2017</td>\n",
       "      <td>1800</td>\n",
       "    </tr>\n",
       "    <tr>\n",
       "      <th>3</th>\n",
       "      <td>Ford</td>\n",
       "      <td>28000</td>\n",
       "      <td>2009</td>\n",
       "      <td>1200</td>\n",
       "    </tr>\n",
       "  </tbody>\n",
       "</table>\n",
       "</div>"
      ],
      "text/plain": [
       "     Name  Price  Model  Power\n",
       "0   Honda  10000   2005   1300\n",
       "1  Toyota  12000   2010   1600\n",
       "2    Audi  25000   2017   1800\n",
       "3    Ford  28000   2009   1200"
      ]
     },
     "execution_count": 79,
     "metadata": {},
     "output_type": "execute_result"
    }
   ],
   "source": [
    "cars_df = pd.read_json('cars.json')\n",
    "cars_df.head()"
   ]
  },
  {
   "cell_type": "markdown",
   "id": "63b6aacb",
   "metadata": {},
   "source": [
    "Загрузить файл находящийся на удалённом сервере можно через:"
   ]
  },
  {
   "cell_type": "code",
   "execution_count": 81,
   "id": "0a9b4d4c",
   "metadata": {},
   "outputs": [
    {
     "data": {
      "text/html": [
       "<div>\n",
       "<style scoped>\n",
       "    .dataframe tbody tr th:only-of-type {\n",
       "        vertical-align: middle;\n",
       "    }\n",
       "\n",
       "    .dataframe tbody tr th {\n",
       "        vertical-align: top;\n",
       "    }\n",
       "\n",
       "    .dataframe thead th {\n",
       "        text-align: right;\n",
       "    }\n",
       "</style>\n",
       "<table border=\"1\" class=\"dataframe\">\n",
       "  <thead>\n",
       "    <tr style=\"text-align: right;\">\n",
       "      <th></th>\n",
       "      <th>sepalLength</th>\n",
       "      <th>sepalWidth</th>\n",
       "      <th>petalLength</th>\n",
       "      <th>petalWidth</th>\n",
       "      <th>species</th>\n",
       "    </tr>\n",
       "  </thead>\n",
       "  <tbody>\n",
       "    <tr>\n",
       "      <th>0</th>\n",
       "      <td>5.1</td>\n",
       "      <td>3.5</td>\n",
       "      <td>1.4</td>\n",
       "      <td>0.2</td>\n",
       "      <td>setosa</td>\n",
       "    </tr>\n",
       "    <tr>\n",
       "      <th>1</th>\n",
       "      <td>4.9</td>\n",
       "      <td>3.0</td>\n",
       "      <td>1.4</td>\n",
       "      <td>0.2</td>\n",
       "      <td>setosa</td>\n",
       "    </tr>\n",
       "    <tr>\n",
       "      <th>2</th>\n",
       "      <td>4.7</td>\n",
       "      <td>3.2</td>\n",
       "      <td>1.3</td>\n",
       "      <td>0.2</td>\n",
       "      <td>setosa</td>\n",
       "    </tr>\n",
       "    <tr>\n",
       "      <th>3</th>\n",
       "      <td>4.6</td>\n",
       "      <td>3.1</td>\n",
       "      <td>1.5</td>\n",
       "      <td>0.2</td>\n",
       "      <td>setosa</td>\n",
       "    </tr>\n",
       "    <tr>\n",
       "      <th>4</th>\n",
       "      <td>5.0</td>\n",
       "      <td>3.6</td>\n",
       "      <td>1.4</td>\n",
       "      <td>0.2</td>\n",
       "      <td>setosa</td>\n",
       "    </tr>\n",
       "  </tbody>\n",
       "</table>\n",
       "</div>"
      ],
      "text/plain": [
       "   sepalLength  sepalWidth  petalLength  petalWidth species\n",
       "0          5.1         3.5          1.4         0.2  setosa\n",
       "1          4.9         3.0          1.4         0.2  setosa\n",
       "2          4.7         3.2          1.3         0.2  setosa\n",
       "3          4.6         3.1          1.5         0.2  setosa\n",
       "4          5.0         3.6          1.4         0.2  setosa"
      ]
     },
     "execution_count": 81,
     "metadata": {},
     "output_type": "execute_result"
    }
   ],
   "source": [
    "iris_data = pd.read_json(\"https://raw.githubusercontent.com/domoritz/maps/master/data/iris.json\")\n",
    "iris_data.head()"
   ]
  },
  {
   "cell_type": "code",
   "execution_count": 82,
   "id": "d9e11df4",
   "metadata": {},
   "outputs": [],
   "source": [
    "iris_data.to_json('iris_data.json')"
   ]
  },
  {
   "cell_type": "code",
   "execution_count": 134,
   "id": "32f6ceef",
   "metadata": {},
   "outputs": [
    {
     "data": {
      "text/html": [
       "<div>\n",
       "<style scoped>\n",
       "    .dataframe tbody tr th:only-of-type {\n",
       "        vertical-align: middle;\n",
       "    }\n",
       "\n",
       "    .dataframe tbody tr th {\n",
       "        vertical-align: top;\n",
       "    }\n",
       "\n",
       "    .dataframe thead th {\n",
       "        text-align: right;\n",
       "    }\n",
       "</style>\n",
       "<table border=\"1\" class=\"dataframe\">\n",
       "  <thead>\n",
       "    <tr style=\"text-align: right;\">\n",
       "      <th></th>\n",
       "      <th>id</th>\n",
       "      <th>name.first</th>\n",
       "      <th>name.last</th>\n",
       "      <th>name.given</th>\n",
       "      <th>name.family</th>\n",
       "      <th>name</th>\n",
       "    </tr>\n",
       "  </thead>\n",
       "  <tbody>\n",
       "    <tr>\n",
       "      <th>0</th>\n",
       "      <td>1.0</td>\n",
       "      <td>Coleen</td>\n",
       "      <td>Volk</td>\n",
       "      <td>NaN</td>\n",
       "      <td>NaN</td>\n",
       "      <td>NaN</td>\n",
       "    </tr>\n",
       "    <tr>\n",
       "      <th>1</th>\n",
       "      <td>NaN</td>\n",
       "      <td>NaN</td>\n",
       "      <td>NaN</td>\n",
       "      <td>Mose</td>\n",
       "      <td>Regner</td>\n",
       "      <td>NaN</td>\n",
       "    </tr>\n",
       "    <tr>\n",
       "      <th>2</th>\n",
       "      <td>2.0</td>\n",
       "      <td>NaN</td>\n",
       "      <td>NaN</td>\n",
       "      <td>NaN</td>\n",
       "      <td>NaN</td>\n",
       "      <td>Faye Raker</td>\n",
       "    </tr>\n",
       "  </tbody>\n",
       "</table>\n",
       "</div>"
      ],
      "text/plain": [
       "    id name.first name.last name.given name.family        name\n",
       "0  1.0     Coleen      Volk        NaN         NaN         NaN\n",
       "1  NaN        NaN       NaN       Mose      Regner         NaN\n",
       "2  2.0        NaN       NaN        NaN         NaN  Faye Raker"
      ]
     },
     "execution_count": 134,
     "metadata": {},
     "output_type": "execute_result"
    }
   ],
   "source": [
    "data = [{'id': 1, 'name': {'first': 'Coleen', 'last': 'Volk'}},\n",
    "        {'name': {'given': 'Mose', 'family': 'Regner'}},\n",
    "        {'id': 2, 'name': 'Faye Raker'}]\n",
    "\n",
    "pd.json_normalize(data)"
   ]
  },
  {
   "cell_type": "code",
   "execution_count": null,
   "id": "0c50924f",
   "metadata": {},
   "outputs": [],
   "source": []
  },
  {
   "cell_type": "markdown",
   "id": "509130cc",
   "metadata": {},
   "source": [
    "Модуль **pickle** позволяет выполнять сериализацию и десериализацию объектов Python. \n",
    "\n",
    "\"Pickling\" - процесс преобразования объекта Python в поток байтов, а \"unpickling\" - обратная операция, в результате которой поток байтов преобразуется обратно в Python-объект. Так как поток байтов легко можно записать в файл, модуль pickle широко применяется для сохранения и загрузки сложных объектов в Python."
   ]
  },
  {
   "cell_type": "code",
   "execution_count": 125,
   "id": "dcdd80eb",
   "metadata": {},
   "outputs": [],
   "source": [
    "import pickle\n",
    "\n",
    "data = {'a': [1, 2.0, 3, 4+6j],\n",
    "        'b': (\"character string\", b\"byte string\"),\n",
    "        'c': {None, True, False}\n",
    "       }"
   ]
  },
  {
   "cell_type": "code",
   "execution_count": 126,
   "id": "d77f410d",
   "metadata": {},
   "outputs": [],
   "source": [
    "with open('data.pickle', 'wb') as f:\n",
    "    pickle.dump(data, f)"
   ]
  },
  {
   "cell_type": "code",
   "execution_count": 127,
   "id": "5df0ea5c",
   "metadata": {},
   "outputs": [],
   "source": [
    "with open('data.pickle', 'rb') as f:\n",
    "    data_new = pickle.load(f)"
   ]
  },
  {
   "cell_type": "code",
   "execution_count": 128,
   "id": "4dcc2b56",
   "metadata": {},
   "outputs": [
    {
     "name": "stdout",
     "output_type": "stream",
     "text": [
      "{'a': [1, 2.0, 3, (4+6j)], 'b': ('character string', b'byte string'), 'c': {False, True, None}}\n"
     ]
    }
   ],
   "source": [
    "print(data_new)"
   ]
  },
  {
   "cell_type": "code",
   "execution_count": null,
   "id": "fdfea8d4",
   "metadata": {},
   "outputs": [],
   "source": []
  },
  {
   "cell_type": "markdown",
   "id": "179946ad",
   "metadata": {},
   "source": [
    "## Практические задания (повторение pandas)"
   ]
  },
  {
   "cell_type": "markdown",
   "id": "1fa3186e",
   "metadata": {},
   "source": [
    "1. Загрузите данные с 'https://raw.githubusercontent.com/Grossmend/CSV/master/titanic/data.csv' и переведите каждую 100-ую строку в DataFrame."
   ]
  },
  {
   "cell_type": "code",
   "execution_count": null,
   "id": "be586f06",
   "metadata": {},
   "outputs": [],
   "source": []
  },
  {
   "cell_type": "markdown",
   "id": "cb38844e",
   "metadata": {},
   "source": [
    "2. В датасете из задания 1 проверьте наличие пропусков (рассчитайте число и процент пропусков), корректность типов данных и выводите общую информацию о датафрейме. Измените тип столбца Age на целочисленный."
   ]
  },
  {
   "cell_type": "code",
   "execution_count": null,
   "id": "bcfd8efc",
   "metadata": {},
   "outputs": [],
   "source": []
  },
  {
   "cell_type": "markdown",
   "id": "42c92d65",
   "metadata": {},
   "source": [
    "3. Как найти евклидово расстояние между двумя Series (точками) a и b, не используя встроенную формулу?"
   ]
  },
  {
   "cell_type": "code",
   "execution_count": 145,
   "id": "3e1dda7f",
   "metadata": {},
   "outputs": [],
   "source": [
    "a = pd.Series([2, 4, 6, 8])\n",
    "b = pd.Series([1, 3, 5, 7])"
   ]
  },
  {
   "cell_type": "code",
   "execution_count": null,
   "id": "014d3858",
   "metadata": {},
   "outputs": [],
   "source": []
  },
  {
   "cell_type": "markdown",
   "id": "4c436565",
   "metadata": {},
   "source": [
    "4. Найдите максимально возможное абсолютное значение корреляции каждого столбца с другими столбцами в df?"
   ]
  },
  {
   "cell_type": "code",
   "execution_count": 99,
   "id": "6d54b5bd",
   "metadata": {},
   "outputs": [
    {
     "data": {
      "text/html": [
       "<div>\n",
       "<style scoped>\n",
       "    .dataframe tbody tr th:only-of-type {\n",
       "        vertical-align: middle;\n",
       "    }\n",
       "\n",
       "    .dataframe tbody tr th {\n",
       "        vertical-align: top;\n",
       "    }\n",
       "\n",
       "    .dataframe thead th {\n",
       "        text-align: right;\n",
       "    }\n",
       "</style>\n",
       "<table border=\"1\" class=\"dataframe\">\n",
       "  <thead>\n",
       "    <tr style=\"text-align: right;\">\n",
       "      <th></th>\n",
       "      <th>e</th>\n",
       "      <th>f</th>\n",
       "      <th>g</th>\n",
       "      <th>h</th>\n",
       "    </tr>\n",
       "  </thead>\n",
       "  <tbody>\n",
       "    <tr>\n",
       "      <th>a</th>\n",
       "      <td>8</td>\n",
       "      <td>43</td>\n",
       "      <td>98</td>\n",
       "      <td>74</td>\n",
       "    </tr>\n",
       "    <tr>\n",
       "      <th>b</th>\n",
       "      <td>48</td>\n",
       "      <td>8</td>\n",
       "      <td>97</td>\n",
       "      <td>30</td>\n",
       "    </tr>\n",
       "    <tr>\n",
       "      <th>c</th>\n",
       "      <td>80</td>\n",
       "      <td>41</td>\n",
       "      <td>7</td>\n",
       "      <td>69</td>\n",
       "    </tr>\n",
       "    <tr>\n",
       "      <th>d</th>\n",
       "      <td>52</td>\n",
       "      <td>30</td>\n",
       "      <td>20</td>\n",
       "      <td>85</td>\n",
       "    </tr>\n",
       "  </tbody>\n",
       "</table>\n",
       "</div>"
      ],
      "text/plain": [
       "    e   f   g   h\n",
       "a   8  43  98  74\n",
       "b  48   8  97  30\n",
       "c  80  41   7  69\n",
       "d  52  30  20  85"
      ]
     },
     "execution_count": 99,
     "metadata": {},
     "output_type": "execute_result"
    }
   ],
   "source": [
    "df = pd.DataFrame(np.random.randint(1, 100, 16).reshape(4, 4), columns=list('efgh'), index=list('abcd'))\n",
    "df"
   ]
  },
  {
   "cell_type": "code",
   "execution_count": null,
   "id": "5f155c7c",
   "metadata": {},
   "outputs": [],
   "source": []
  },
  {
   "cell_type": "markdown",
   "id": "882472f8",
   "metadata": {},
   "source": [
    "5. Объедините df1 и df2 по столбцам fruit-frukt и weight-ves."
   ]
  },
  {
   "cell_type": "code",
   "execution_count": 102,
   "id": "6b2fbf48",
   "metadata": {},
   "outputs": [],
   "source": [
    "df1 = pd.DataFrame({'fruit': ['apple', 'banana', 'orange'] * 3,\n",
    "                    'weight': ['low', 'medium', 'high'] * 3,\n",
    "                    'price': np.random.randint(0, 100, 9)})\n",
    "\n",
    "df2 = pd.DataFrame({'frukt': ['apple', 'banana', 'melon'] * 2,\n",
    "                    'ves': ['low', 'high'] * 3,\n",
    "                    'price': np.random.randint(0, 100, 6)})\n"
   ]
  },
  {
   "cell_type": "code",
   "execution_count": null,
   "id": "8a6d6db1",
   "metadata": {},
   "outputs": [],
   "source": []
  },
  {
   "cell_type": "markdown",
   "id": "26c8900e",
   "metadata": {},
   "source": [
    "6. Создайте новый столбец, который содержит номера ближайших по евклидовому расстоянию столбцов?"
   ]
  },
  {
   "cell_type": "code",
   "execution_count": 135,
   "id": "be7848a1",
   "metadata": {},
   "outputs": [
    {
     "data": {
      "text/html": [
       "<div>\n",
       "<style scoped>\n",
       "    .dataframe tbody tr th:only-of-type {\n",
       "        vertical-align: middle;\n",
       "    }\n",
       "\n",
       "    .dataframe tbody tr th {\n",
       "        vertical-align: top;\n",
       "    }\n",
       "\n",
       "    .dataframe thead th {\n",
       "        text-align: right;\n",
       "    }\n",
       "</style>\n",
       "<table border=\"1\" class=\"dataframe\">\n",
       "  <thead>\n",
       "    <tr style=\"text-align: right;\">\n",
       "      <th></th>\n",
       "      <th>e</th>\n",
       "      <th>f</th>\n",
       "      <th>g</th>\n",
       "      <th>h</th>\n",
       "    </tr>\n",
       "  </thead>\n",
       "  <tbody>\n",
       "    <tr>\n",
       "      <th>a</th>\n",
       "      <td>41</td>\n",
       "      <td>60</td>\n",
       "      <td>68</td>\n",
       "      <td>84</td>\n",
       "    </tr>\n",
       "    <tr>\n",
       "      <th>b</th>\n",
       "      <td>81</td>\n",
       "      <td>43</td>\n",
       "      <td>46</td>\n",
       "      <td>32</td>\n",
       "    </tr>\n",
       "    <tr>\n",
       "      <th>c</th>\n",
       "      <td>78</td>\n",
       "      <td>16</td>\n",
       "      <td>97</td>\n",
       "      <td>16</td>\n",
       "    </tr>\n",
       "    <tr>\n",
       "      <th>d</th>\n",
       "      <td>92</td>\n",
       "      <td>91</td>\n",
       "      <td>8</td>\n",
       "      <td>40</td>\n",
       "    </tr>\n",
       "  </tbody>\n",
       "</table>\n",
       "</div>"
      ],
      "text/plain": [
       "    e   f   g   h\n",
       "a  41  60  68  84\n",
       "b  81  43  46  32\n",
       "c  78  16  97  16\n",
       "d  92  91   8  40"
      ]
     },
     "execution_count": 135,
     "metadata": {},
     "output_type": "execute_result"
    }
   ],
   "source": [
    "df = pd.DataFrame(np.random.randint(1, 100, 16).reshape(4, 4), columns=list('efgh'), index=list('abcd'))\n",
    "df"
   ]
  },
  {
   "cell_type": "code",
   "execution_count": null,
   "id": "c6ff2370",
   "metadata": {},
   "outputs": [],
   "source": []
  },
  {
   "cell_type": "markdown",
   "id": "4b06bb19",
   "metadata": {},
   "source": [
    "7. Нужно найти не пересекающиеся элементы в двух объектах Series:"
   ]
  },
  {
   "cell_type": "code",
   "execution_count": 136,
   "id": "ac3fb754",
   "metadata": {},
   "outputs": [],
   "source": [
    "s1 = pd.Series([1, 2, 3, 4, 5])\n",
    "s2 = pd.Series([4, 5, 6, 7, 8])"
   ]
  },
  {
   "cell_type": "code",
   "execution_count": null,
   "id": "066e94e7",
   "metadata": {},
   "outputs": [],
   "source": []
  },
  {
   "cell_type": "markdown",
   "id": "bd304279",
   "metadata": {},
   "source": [
    "8. Нужно найти индексы объекта Series кратные 3."
   ]
  },
  {
   "cell_type": "code",
   "execution_count": 112,
   "id": "731f83ba",
   "metadata": {},
   "outputs": [],
   "source": [
    "s = pd.Series(np.random.randint(low=1, high=10, size=[7]))"
   ]
  },
  {
   "cell_type": "code",
   "execution_count": null,
   "id": "3550a4ae",
   "metadata": {},
   "outputs": [],
   "source": []
  },
  {
   "cell_type": "markdown",
   "id": "049bd60e",
   "metadata": {},
   "source": [
    "9. Необходимо объеденить два объекта Series вертикально и горизонтально."
   ]
  },
  {
   "cell_type": "code",
   "execution_count": 116,
   "id": "0d889f19",
   "metadata": {},
   "outputs": [],
   "source": [
    "s1 = pd.Series(range(5))\n",
    "s2 = pd.Series(list('abcde'))"
   ]
  },
  {
   "cell_type": "code",
   "execution_count": null,
   "id": "ce790123",
   "metadata": {},
   "outputs": [],
   "source": []
  },
  {
   "cell_type": "markdown",
   "id": "76337a7e",
   "metadata": {},
   "source": [
    "10. Получить объект Series, который содержит элементы без повторений объекта A."
   ]
  },
  {
   "cell_type": "code",
   "execution_count": 118,
   "id": "1a1312c8",
   "metadata": {},
   "outputs": [],
   "source": [
    "s = pd.Series(np.random.randint(low=1, high=10, size=[10]))"
   ]
  },
  {
   "cell_type": "code",
   "execution_count": null,
   "id": "2301b632",
   "metadata": {},
   "outputs": [],
   "source": []
  },
  {
   "cell_type": "markdown",
   "id": "7c606a98",
   "metadata": {},
   "source": [
    "11. Преобразуйте каждый символ объекта Series в нижний регистр."
   ]
  },
  {
   "cell_type": "code",
   "execution_count": 122,
   "id": "e8687a7b",
   "metadata": {},
   "outputs": [],
   "source": [
    "s = pd.Series(['Python', 'for', 'data', 'analysis'])"
   ]
  },
  {
   "cell_type": "code",
   "execution_count": null,
   "id": "26ae7443",
   "metadata": {},
   "outputs": [],
   "source": []
  },
  {
   "cell_type": "markdown",
   "id": "23638b42",
   "metadata": {},
   "source": [
    "12. Загрузите данные в формате JSON (см. статью https://habr.com/ru/companies/otus/articles/731844/)."
   ]
  },
  {
   "cell_type": "code",
   "execution_count": 137,
   "id": "d2c98172",
   "metadata": {},
   "outputs": [
    {
     "data": {
      "text/html": [
       "<div>\n",
       "<style scoped>\n",
       "    .dataframe tbody tr th:only-of-type {\n",
       "        vertical-align: middle;\n",
       "    }\n",
       "\n",
       "    .dataframe tbody tr th {\n",
       "        vertical-align: top;\n",
       "    }\n",
       "\n",
       "    .dataframe thead th {\n",
       "        text-align: right;\n",
       "    }\n",
       "</style>\n",
       "<table border=\"1\" class=\"dataframe\">\n",
       "  <thead>\n",
       "    <tr style=\"text-align: right;\">\n",
       "      <th></th>\n",
       "      <th>Airport</th>\n",
       "      <th>Time</th>\n",
       "      <th>Statistics</th>\n",
       "    </tr>\n",
       "  </thead>\n",
       "  <tbody>\n",
       "    <tr>\n",
       "      <th>0</th>\n",
       "      <td>{'Code': 'ATL', 'Name': 'Atlanta, GA: Hartsfie...</td>\n",
       "      <td>{'Label': '2003/06', 'Month': 6, 'Month Name':...</td>\n",
       "      <td>{'# of Delays': {'Carrier': 1009, 'Late Aircra...</td>\n",
       "    </tr>\n",
       "    <tr>\n",
       "      <th>1</th>\n",
       "      <td>{'Code': 'BOS', 'Name': 'Boston, MA: Logan Int...</td>\n",
       "      <td>{'Label': '2003/06', 'Month': 6, 'Month Name':...</td>\n",
       "      <td>{'# of Delays': {'Carrier': 374, 'Late Aircraf...</td>\n",
       "    </tr>\n",
       "    <tr>\n",
       "      <th>2</th>\n",
       "      <td>{'Code': 'BWI', 'Name': 'Baltimore, MD: Baltim...</td>\n",
       "      <td>{'Label': '2003/06', 'Month': 6, 'Month Name':...</td>\n",
       "      <td>{'# of Delays': {'Carrier': 296, 'Late Aircraf...</td>\n",
       "    </tr>\n",
       "    <tr>\n",
       "      <th>3</th>\n",
       "      <td>{'Code': 'CLT', 'Name': 'Charlotte, NC: Charlo...</td>\n",
       "      <td>{'Label': '2003/06', 'Month': 6, 'Month Name':...</td>\n",
       "      <td>{'# of Delays': {'Carrier': 300, 'Late Aircraf...</td>\n",
       "    </tr>\n",
       "    <tr>\n",
       "      <th>4</th>\n",
       "      <td>{'Code': 'DCA', 'Name': 'Washington, DC: Ronal...</td>\n",
       "      <td>{'Label': '2003/06', 'Month': 6, 'Month Name':...</td>\n",
       "      <td>{'# of Delays': {'Carrier': 283, 'Late Aircraf...</td>\n",
       "    </tr>\n",
       "    <tr>\n",
       "      <th>...</th>\n",
       "      <td>...</td>\n",
       "      <td>...</td>\n",
       "      <td>...</td>\n",
       "    </tr>\n",
       "    <tr>\n",
       "      <th>4403</th>\n",
       "      <td>{'Code': 'SAN', 'Name': 'San Diego, CA: San Di...</td>\n",
       "      <td>{'Label': '2016/01', 'Month': 1, 'Month Name':...</td>\n",
       "      <td>{'# of Delays': {'Carrier': 280, 'Late Aircraf...</td>\n",
       "    </tr>\n",
       "    <tr>\n",
       "      <th>4404</th>\n",
       "      <td>{'Code': 'SEA', 'Name': 'Seattle, WA: Seattle/...</td>\n",
       "      <td>{'Label': '2016/01', 'Month': 1, 'Month Name':...</td>\n",
       "      <td>{'# of Delays': {'Carrier': 357, 'Late Aircraf...</td>\n",
       "    </tr>\n",
       "    <tr>\n",
       "      <th>4405</th>\n",
       "      <td>{'Code': 'SFO', 'Name': 'San Francisco, CA: Sa...</td>\n",
       "      <td>{'Label': '2016/01', 'Month': 1, 'Month Name':...</td>\n",
       "      <td>{'# of Delays': {'Carrier': 560, 'Late Aircraf...</td>\n",
       "    </tr>\n",
       "    <tr>\n",
       "      <th>4406</th>\n",
       "      <td>{'Code': 'SLC', 'Name': 'Salt Lake City, UT: S...</td>\n",
       "      <td>{'Label': '2016/01', 'Month': 1, 'Month Name':...</td>\n",
       "      <td>{'# of Delays': {'Carrier': 338, 'Late Aircraf...</td>\n",
       "    </tr>\n",
       "    <tr>\n",
       "      <th>4407</th>\n",
       "      <td>{'Code': 'TPA', 'Name': 'Tampa, FL: Tampa Inte...</td>\n",
       "      <td>{'Label': '2016/01', 'Month': 1, 'Month Name':...</td>\n",
       "      <td>{'# of Delays': {'Carrier': 410, 'Late Aircraf...</td>\n",
       "    </tr>\n",
       "  </tbody>\n",
       "</table>\n",
       "<p>4408 rows × 3 columns</p>\n",
       "</div>"
      ],
      "text/plain": [
       "                                                Airport  \\\n",
       "0     {'Code': 'ATL', 'Name': 'Atlanta, GA: Hartsfie...   \n",
       "1     {'Code': 'BOS', 'Name': 'Boston, MA: Logan Int...   \n",
       "2     {'Code': 'BWI', 'Name': 'Baltimore, MD: Baltim...   \n",
       "3     {'Code': 'CLT', 'Name': 'Charlotte, NC: Charlo...   \n",
       "4     {'Code': 'DCA', 'Name': 'Washington, DC: Ronal...   \n",
       "...                                                 ...   \n",
       "4403  {'Code': 'SAN', 'Name': 'San Diego, CA: San Di...   \n",
       "4404  {'Code': 'SEA', 'Name': 'Seattle, WA: Seattle/...   \n",
       "4405  {'Code': 'SFO', 'Name': 'San Francisco, CA: Sa...   \n",
       "4406  {'Code': 'SLC', 'Name': 'Salt Lake City, UT: S...   \n",
       "4407  {'Code': 'TPA', 'Name': 'Tampa, FL: Tampa Inte...   \n",
       "\n",
       "                                                   Time  \\\n",
       "0     {'Label': '2003/06', 'Month': 6, 'Month Name':...   \n",
       "1     {'Label': '2003/06', 'Month': 6, 'Month Name':...   \n",
       "2     {'Label': '2003/06', 'Month': 6, 'Month Name':...   \n",
       "3     {'Label': '2003/06', 'Month': 6, 'Month Name':...   \n",
       "4     {'Label': '2003/06', 'Month': 6, 'Month Name':...   \n",
       "...                                                 ...   \n",
       "4403  {'Label': '2016/01', 'Month': 1, 'Month Name':...   \n",
       "4404  {'Label': '2016/01', 'Month': 1, 'Month Name':...   \n",
       "4405  {'Label': '2016/01', 'Month': 1, 'Month Name':...   \n",
       "4406  {'Label': '2016/01', 'Month': 1, 'Month Name':...   \n",
       "4407  {'Label': '2016/01', 'Month': 1, 'Month Name':...   \n",
       "\n",
       "                                             Statistics  \n",
       "0     {'# of Delays': {'Carrier': 1009, 'Late Aircra...  \n",
       "1     {'# of Delays': {'Carrier': 374, 'Late Aircraf...  \n",
       "2     {'# of Delays': {'Carrier': 296, 'Late Aircraf...  \n",
       "3     {'# of Delays': {'Carrier': 300, 'Late Aircraf...  \n",
       "4     {'# of Delays': {'Carrier': 283, 'Late Aircraf...  \n",
       "...                                                 ...  \n",
       "4403  {'# of Delays': {'Carrier': 280, 'Late Aircraf...  \n",
       "4404  {'# of Delays': {'Carrier': 357, 'Late Aircraf...  \n",
       "4405  {'# of Delays': {'Carrier': 560, 'Late Aircraf...  \n",
       "4406  {'# of Delays': {'Carrier': 338, 'Late Aircraf...  \n",
       "4407  {'# of Delays': {'Carrier': 410, 'Late Aircraf...  \n",
       "\n",
       "[4408 rows x 3 columns]"
      ]
     },
     "execution_count": 137,
     "metadata": {},
     "output_type": "execute_result"
    }
   ],
   "source": [
    "data = pd.read_json('airlines.json')\n",
    "data"
   ]
  },
  {
   "cell_type": "markdown",
   "id": "759ab74f",
   "metadata": {},
   "source": [
    "13. Сохраните датафрейм с 'https://raw.githubusercontent.com/Grossmend/CSV/master/titanic/data.csv' в формате pickle."
   ]
  },
  {
   "cell_type": "code",
   "execution_count": null,
   "id": "2efb2684",
   "metadata": {},
   "outputs": [],
   "source": []
  },
  {
   "cell_type": "code",
   "execution_count": null,
   "id": "0090199b",
   "metadata": {},
   "outputs": [],
   "source": [
    "14. Дана Series из дат. Нужно преобразовать к единому формату даты."
   ]
  },
  {
   "cell_type": "code",
   "execution_count": 150,
   "id": "06b0fc94",
   "metadata": {},
   "outputs": [],
   "source": [
    "s = pd.Series(['2021/01/01', '2011-01-02', '12 Jan 2017'])"
   ]
  },
  {
   "cell_type": "code",
   "execution_count": null,
   "id": "d0ea3057",
   "metadata": {},
   "outputs": [],
   "source": []
  },
  {
   "cell_type": "markdown",
   "id": "53d3844b",
   "metadata": {},
   "source": [
    "15. Замените все элементы объекта Series на \"Other\", кроме двух наиболее часто встречающихся."
   ]
  },
  {
   "cell_type": "code",
   "execution_count": 152,
   "id": "e196bedc",
   "metadata": {},
   "outputs": [],
   "source": [
    "state = np.random.RandomState(123)\n",
    "s = pd.Series(state.randint(low=1, high=5, size=[13]))"
   ]
  },
  {
   "cell_type": "code",
   "execution_count": null,
   "id": "89bd75e8",
   "metadata": {},
   "outputs": [],
   "source": []
  }
 ],
 "metadata": {
  "kernelspec": {
   "display_name": "Python 3 (ipykernel)",
   "language": "python",
   "name": "python3"
  },
  "language_info": {
   "codemirror_mode": {
    "name": "ipython",
    "version": 3
   },
   "file_extension": ".py",
   "mimetype": "text/x-python",
   "name": "python",
   "nbconvert_exporter": "python",
   "pygments_lexer": "ipython3",
   "version": "3.9.13"
  }
 },
 "nbformat": 4,
 "nbformat_minor": 5
}
